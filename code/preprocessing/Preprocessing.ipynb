{
 "cells": [
  {
   "cell_type": "code",
   "execution_count": 111,
   "metadata": {},
   "outputs": [],
   "source": [
    "import pandas as pd\n",
    "import numpy as np\n",
    "import seaborn as sns\n",
    "import matplotlib.pyplot as plt\n",
    " \n",
    "import warnings\n",
    "warnings.filterwarnings(\"ignore\")\n",
    "\n",
    "# show float in two decimal form\n",
    "plt.style.use('ggplot')\n",
    "pd.set_option('display.float_format',lambda x : '%.2f' % x)"
   ]
  },
  {
   "cell_type": "code",
   "execution_count": 112,
   "metadata": {},
   "outputs": [
    {
     "data": {
      "text/html": [
       "<div>\n",
       "<style scoped>\n",
       "    .dataframe tbody tr th:only-of-type {\n",
       "        vertical-align: middle;\n",
       "    }\n",
       "\n",
       "    .dataframe tbody tr th {\n",
       "        vertical-align: top;\n",
       "    }\n",
       "\n",
       "    .dataframe thead th {\n",
       "        text-align: right;\n",
       "    }\n",
       "</style>\n",
       "<table border=\"1\" class=\"dataframe\">\n",
       "  <thead>\n",
       "    <tr style=\"text-align: right;\">\n",
       "      <th></th>\n",
       "      <th>Time (UTC+10)</th>\n",
       "      <th>Regions NSW Trading Price ($/MWh)</th>\n",
       "      <th>Regions SA Trading Price ($/MWh)</th>\n",
       "      <th>Regions TAS Trading Price ($/MWh)</th>\n",
       "      <th>Regions VIC Trading Price ($/MWh)</th>\n",
       "      <th>Regions NSW Trading Total Intermittent Generation (MW)</th>\n",
       "      <th>Regions SA Trading Total Intermittent Generation (MW)</th>\n",
       "      <th>Regions TAS Trading Total Intermittent Generation (MW)</th>\n",
       "      <th>Regions VIC Trading Total Intermittent Generation (MW)</th>\n",
       "      <th>Regions NSW Operational Demand (MW)</th>\n",
       "      <th>Regions SA Operational Demand (MW)</th>\n",
       "      <th>Regions TAS Operational Demand (MW)</th>\n",
       "      <th>Regions VIC Operational Demand (MW)</th>\n",
       "    </tr>\n",
       "  </thead>\n",
       "  <tbody>\n",
       "    <tr>\n",
       "      <th>0</th>\n",
       "      <td>2018-01-01 00:00:00</td>\n",
       "      <td>88.00</td>\n",
       "      <td>103.11</td>\n",
       "      <td>90.55</td>\n",
       "      <td>90.43</td>\n",
       "      <td>0.18</td>\n",
       "      <td>60.53</td>\n",
       "      <td>121.68</td>\n",
       "      <td>146.87</td>\n",
       "      <td>7100</td>\n",
       "      <td>1398</td>\n",
       "      <td>1091</td>\n",
       "      <td>4599</td>\n",
       "    </tr>\n",
       "    <tr>\n",
       "      <th>1</th>\n",
       "      <td>2018-01-01 00:30:00</td>\n",
       "      <td>91.86</td>\n",
       "      <td>107.17</td>\n",
       "      <td>92.28</td>\n",
       "      <td>92.46</td>\n",
       "      <td>0.15</td>\n",
       "      <td>43.07</td>\n",
       "      <td>118.73</td>\n",
       "      <td>131.68</td>\n",
       "      <td>6974</td>\n",
       "      <td>1359</td>\n",
       "      <td>1082</td>\n",
       "      <td>4398</td>\n",
       "    </tr>\n",
       "    <tr>\n",
       "      <th>2</th>\n",
       "      <td>2018-01-01 01:00:00</td>\n",
       "      <td>88.83</td>\n",
       "      <td>103.31</td>\n",
       "      <td>87.53</td>\n",
       "      <td>87.62</td>\n",
       "      <td>0.13</td>\n",
       "      <td>41.67</td>\n",
       "      <td>110.48</td>\n",
       "      <td>119.98</td>\n",
       "      <td>6790</td>\n",
       "      <td>1316</td>\n",
       "      <td>1071</td>\n",
       "      <td>4238</td>\n",
       "    </tr>\n",
       "  </tbody>\n",
       "</table>\n",
       "</div>"
      ],
      "text/plain": [
       "        Time (UTC+10)  Regions NSW Trading Price ($/MWh)  \\\n",
       "0 2018-01-01 00:00:00                              88.00   \n",
       "1 2018-01-01 00:30:00                              91.86   \n",
       "2 2018-01-01 01:00:00                              88.83   \n",
       "\n",
       "   Regions SA Trading Price ($/MWh)  Regions TAS Trading Price ($/MWh)  \\\n",
       "0                            103.11                              90.55   \n",
       "1                            107.17                              92.28   \n",
       "2                            103.31                              87.53   \n",
       "\n",
       "   Regions VIC Trading Price ($/MWh)  \\\n",
       "0                              90.43   \n",
       "1                              92.46   \n",
       "2                              87.62   \n",
       "\n",
       "   Regions NSW Trading Total Intermittent Generation (MW)  \\\n",
       "0                                               0.18        \n",
       "1                                               0.15        \n",
       "2                                               0.13        \n",
       "\n",
       "   Regions SA Trading Total Intermittent Generation (MW)  \\\n",
       "0                                              60.53       \n",
       "1                                              43.07       \n",
       "2                                              41.67       \n",
       "\n",
       "   Regions TAS Trading Total Intermittent Generation (MW)  \\\n",
       "0                                             121.68        \n",
       "1                                             118.73        \n",
       "2                                             110.48        \n",
       "\n",
       "   Regions VIC Trading Total Intermittent Generation (MW)  \\\n",
       "0                                             146.87        \n",
       "1                                             131.68        \n",
       "2                                             119.98        \n",
       "\n",
       "   Regions NSW Operational Demand (MW)  Regions SA Operational Demand (MW)  \\\n",
       "0                                 7100                                1398   \n",
       "1                                 6974                                1359   \n",
       "2                                 6790                                1316   \n",
       "\n",
       "   Regions TAS Operational Demand (MW)  Regions VIC Operational Demand (MW)  \n",
       "0                                 1091                                 4599  \n",
       "1                                 1082                                 4398  \n",
       "2                                 1071                                 4238  "
      ]
     },
     "execution_count": 112,
     "metadata": {},
     "output_type": "execute_result"
    }
   ],
   "source": [
    "data = pd.read_excel(\"../../data/market_data.xlsx\")\n",
    "data.head(3)"
   ]
  },
  {
   "cell_type": "code",
   "execution_count": 116,
   "metadata": {},
   "outputs": [
    {
     "data": {
      "text/html": [
       "<div>\n",
       "<style scoped>\n",
       "    .dataframe tbody tr th:only-of-type {\n",
       "        vertical-align: middle;\n",
       "    }\n",
       "\n",
       "    .dataframe tbody tr th {\n",
       "        vertical-align: top;\n",
       "    }\n",
       "\n",
       "    .dataframe thead th {\n",
       "        text-align: right;\n",
       "    }\n",
       "</style>\n",
       "<table border=\"1\" class=\"dataframe\">\n",
       "  <thead>\n",
       "    <tr style=\"text-align: right;\">\n",
       "      <th></th>\n",
       "      <th>time</th>\n",
       "      <th>spot_price</th>\n",
       "      <th>inter_gen</th>\n",
       "      <th>demand</th>\n",
       "    </tr>\n",
       "  </thead>\n",
       "  <tbody>\n",
       "    <tr>\n",
       "      <th>0</th>\n",
       "      <td>2018-01-01 00:00:00</td>\n",
       "      <td>90.43</td>\n",
       "      <td>146.87</td>\n",
       "      <td>4599</td>\n",
       "    </tr>\n",
       "    <tr>\n",
       "      <th>1</th>\n",
       "      <td>2018-01-01 00:30:00</td>\n",
       "      <td>92.46</td>\n",
       "      <td>131.68</td>\n",
       "      <td>4398</td>\n",
       "    </tr>\n",
       "    <tr>\n",
       "      <th>2</th>\n",
       "      <td>2018-01-01 01:00:00</td>\n",
       "      <td>87.62</td>\n",
       "      <td>119.98</td>\n",
       "      <td>4238</td>\n",
       "    </tr>\n",
       "  </tbody>\n",
       "</table>\n",
       "</div>"
      ],
      "text/plain": [
       "                 time  spot_price  inter_gen  demand\n",
       "0 2018-01-01 00:00:00       90.43     146.87    4599\n",
       "1 2018-01-01 00:30:00       92.46     131.68    4398\n",
       "2 2018-01-01 01:00:00       87.62     119.98    4238"
      ]
     },
     "execution_count": 116,
     "metadata": {},
     "output_type": "execute_result"
    }
   ],
   "source": [
    "data.columns = ['time', 'spot_price_nsw', 'spot_price_sa', 'spot_price_tas', 'spot_price_vic',\n",
    "                'inter_gen_nsw', 'inter_gen_sa', 'inter_gen_tas', 'inter_gen_vic',\n",
    "                'demand_nsw', 'demand_sa', 'demand_tas', 'demand_vic']\n",
    "\n",
    "# Victoria\n",
    "vic = data.iloc[:, [0, 4, 8, 12]]\n",
    "vic.columns = ['time', 'spot_price', 'inter_gen', 'demand']\n",
    "\n",
    "# Tasmania\n",
    "tas = data.iloc[:, [0, 3, 7, 11]]\n",
    "tas.columns = ['time', 'spot_price', 'inter_gen', 'demand']\n",
    "\n",
    "# South Australia\n",
    "sa = data.iloc[:, [0, 2, 6, 10]]\n",
    "sa.columns = ['time', 'spot_price', 'inter_gen', 'demand']\n",
    "\n",
    "# New South Wales\n",
    "nsw = data.iloc[:, [0, 1, 5, 9]]\n",
    "nsw.columns = ['time', 'spot_price', 'inter_gen', 'demand']\n",
    "\n",
    "vic.head(3)"
   ]
  },
  {
   "cell_type": "code",
   "execution_count": 118,
   "metadata": {},
   "outputs": [
    {
     "data": {
      "text/plain": [
       "time              datetime64[ns]\n",
       "spot_price_nsw           float64\n",
       "spot_price_sa            float64\n",
       "spot_price_tas           float64\n",
       "spot_price_vic           float64\n",
       "inter_gen_nsw            float64\n",
       "inter_gen_sa             float64\n",
       "inter_gen_tas            float64\n",
       "inter_gen_vic            float64\n",
       "demand_nsw                 int64\n",
       "demand_sa                  int64\n",
       "demand_tas                 int64\n",
       "demand_vic                 int64\n",
       "dtype: object"
      ]
     },
     "execution_count": 118,
     "metadata": {},
     "output_type": "execute_result"
    }
   ],
   "source": [
    "data.dtypes"
   ]
  },
  {
   "cell_type": "code",
   "execution_count": 119,
   "metadata": {},
   "outputs": [
    {
     "data": {
      "text/plain": [
       "0"
      ]
     },
     "execution_count": 119,
     "metadata": {},
     "output_type": "execute_result"
    }
   ],
   "source": [
    "# check missing value\n",
    "data.isnull().sum().sum()"
   ]
  },
  {
   "cell_type": "code",
   "execution_count": 120,
   "metadata": {},
   "outputs": [
    {
     "data": {
      "image/png": "[encoded data removed]",
      "text/plain": [
       "<Figure size 432x288 with 1 Axes>"
      ]
     },
     "metadata": {},
     "output_type": "display_data"
    }
   ],
   "source": [
    "# initial view of fees\n",
    "price_box = vic.boxplot(column=[\"spot_price\"])\n",
    "fig1 = price_box.get_figure()\n",
    "\n",
    "fig1.suptitle(\"Initial box plot of VIC trading price\")\n",
    "fig1.show()\n"
   ]
  },
  {
   "cell_type": "code",
   "execution_count": 121,
   "metadata": {},
   "outputs": [
    {
     "data": {
      "text/plain": [
       "count   63457.00\n",
       "mean       78.75\n",
       "std       289.26\n",
       "min      -676.37\n",
       "25%        39.01\n",
       "50%        64.11\n",
       "75%        94.85\n",
       "max     14700.00\n",
       "Name: spot_price, dtype: float64"
      ]
     },
     "execution_count": 121,
     "metadata": {},
     "output_type": "execute_result"
    }
   ],
   "source": [
    "vic.describe()[\"spot_price\"]"
   ]
  },
  {
   "cell_type": "code",
   "execution_count": 122,
   "metadata": {},
   "outputs": [
    {
     "data": {
      "text/html": [
       "<div>\n",
       "<style scoped>\n",
       "    .dataframe tbody tr th:only-of-type {\n",
       "        vertical-align: middle;\n",
       "    }\n",
       "\n",
       "    .dataframe tbody tr th {\n",
       "        vertical-align: top;\n",
       "    }\n",
       "\n",
       "    .dataframe thead th {\n",
       "        text-align: right;\n",
       "    }\n",
       "</style>\n",
       "<table border=\"1\" class=\"dataframe\">\n",
       "  <thead>\n",
       "    <tr style=\"text-align: right;\">\n",
       "      <th></th>\n",
       "      <th>time</th>\n",
       "      <th>spot_price</th>\n",
       "      <th>inter_gen</th>\n",
       "      <th>demand</th>\n",
       "    </tr>\n",
       "  </thead>\n",
       "  <tbody>\n",
       "  </tbody>\n",
       "</table>\n",
       "</div>"
      ],
      "text/plain": [
       "Empty DataFrame\n",
       "Columns: [time, spot_price, inter_gen, demand]\n",
       "Index: []"
      ]
     },
     "execution_count": 122,
     "metadata": {},
     "output_type": "execute_result"
    }
   ],
   "source": [
    "# check noise data\n",
    "vic.loc[~vic[\"time\"].dt.year.isin(([2018,2019,2020,2021]))]"
   ]
  },
  {
   "cell_type": "code",
   "execution_count": 123,
   "metadata": {
    "scrolled": true
   },
   "outputs": [],
   "source": [
    "# add period corresponding to each period\n",
    "period = pd.DataFrame({\"period_time\":pd.date_range('2018-01-01', periods=48, freq=\"30T\").time})\n",
    "period.index +=1\n",
    "period[\"period\"] = period.index\n",
    "\n",
    "# All data\n",
    "data['period_time'] = data.time.dt.time\n",
    "data['period'] = pd.merge(data, period, how=\"left\").period\n",
    "data = data.drop(columns=['period_time'])\n",
    "\n",
    "# Victoria\n",
    "vic[\"period_time\"] = vic[\"time\"].dt.time\n",
    "vic['period'] = pd.merge(vic, period, how=\"left\").period\n",
    "vic = vic.drop(columns=['period_time'])\n",
    "\n",
    "# Tasmania\n",
    "tas[\"period_time\"] = tas[\"time\"].dt.time\n",
    "tas['period'] = pd.merge(tas, period, how=\"left\").period\n",
    "tas = tas.drop(columns=['period_time'])\n",
    "\n",
    "# South Australia\n",
    "sa[\"period_time\"] = sa[\"time\"].dt.time\n",
    "sa['period'] = pd.merge(sa, period, how=\"left\").period\n",
    "sa = sa.drop(columns=['period_time'])\n",
    "\n",
    "# New South Wales\n",
    "nsw[\"period_time\"] = nsw[\"time\"].dt.time\n",
    "nsw['period'] = pd.merge(nsw, period, how=\"left\").period\n",
    "nsw = nsw.drop(columns=['period_time'])"
   ]
  },
  {
   "cell_type": "markdown",
   "metadata": {},
   "source": [
    "### Visualisation for lowest price"
   ]
  },
  {
   "cell_type": "code",
   "execution_count": 124,
   "metadata": {},
   "outputs": [],
   "source": [
    "# The first 200data with lowest trading price\n",
    "lowest_200 = vic.sort_values(by=[\"spot_price\"]).head(200)"
   ]
  },
  {
   "cell_type": "code",
   "execution_count": 125,
   "metadata": {},
   "outputs": [
    {
     "data": {
      "image/png": "[encoded data removed]",
      "text/plain": [
       "<Figure size 432x288 with 1 Axes>"
      ]
     },
     "metadata": {},
     "output_type": "display_data"
    }
   ],
   "source": [
    "lowest_count = lowest_200.groupby(\"period\").count()[\"spot_price\"]\n",
    "plt.plot(lowest_count.index, lowest_count)\n",
    "plt.xlabel('time period', fontsize=12)\n",
    "plt.ylabel('frequency', fontsize=12)\n",
    "plt.show()"
   ]
  },
  {
   "cell_type": "code",
   "execution_count": 126,
   "metadata": {},
   "outputs": [
    {
     "data": {
      "image/png": "[encoded data removed]",
      "text/plain": [
       "<Figure size 432x288 with 1 Axes>"
      ]
     },
     "metadata": {},
     "output_type": "display_data"
    }
   ],
   "source": [
    "# frequency of negative price period\n",
    "negative_price = vic.loc[VIC[\"spot_price\"] <0]\n",
    "negative_count = negative_price.groupby(\"period\").count()[\"spot_price\"]\n",
    "plt.plot(negative_count.index, negative_count)\n",
    "plt.xlabel('time period', fontsize=12)\n",
    "plt.ylabel('frequency', fontsize=12)\n",
    "plt.show()"
   ]
  },
  {
   "cell_type": "markdown",
   "metadata": {},
   "source": [
    "### Visualisation for highest price"
   ]
  },
  {
   "cell_type": "code",
   "execution_count": 127,
   "metadata": {},
   "outputs": [
    {
     "data": {
      "image/png": "[encoded data removed]",
      "text/plain": [
       "<Figure size 432x288 with 1 Axes>"
      ]
     },
     "metadata": {},
     "output_type": "display_data"
    }
   ],
   "source": [
    "# The first 200 data with lowest trading price\n",
    "highest_200 = vic.sort_values(by=[\"spot_price\"]).tail(200)\n",
    "highest_count = highest_200.groupby(\"period\").count()[\"spot_price\"]\n",
    "plt.plot(highest_count.index, highest_count)\n",
    "plt.xlabel('time period', fontsize=12)\n",
    "plt.ylabel('frequency', fontsize=12)\n",
    "plt.show()"
   ]
  },
  {
   "cell_type": "code",
   "execution_count": 128,
   "metadata": {},
   "outputs": [],
   "source": [
    "# split dataset into training set, validation set, and test set and output to csv\n",
    "\n",
    "# All\n",
    "data_train = data[data['time'] <= \"2020-12-31 23:30:00\"]\n",
    "data_cv = data[(data['time'] >= \"2021-01-01 00:00:00\") & (data['time'] <= \"2021-06-30 23:30:00\")].reset_index(drop=True)\n",
    "data_test = data[(data['time'] >= \"2021-07-01 00:00:00\") & (data['time'] <= \"2021-08-11 23:30:00\")].reset_index(drop=True)\n",
    "data.to_csv(\"../../data/all.csv\", index= False, header=True)\n",
    "data_train.to_csv(\"../../data/all_train.csv\", index= False, header=True)\n",
    "data_cv.to_csv(\"../../data/all_cv.csv\", index= False, header=True)\n",
    "data_test.to_csv(\"../../data/all_test.csv\", index= False, header=True)\n",
    "\n",
    "# Victoria\n",
    "vic_train = vic[vic['time'] <= \"2020-12-31 23:30:00\"]\n",
    "vic_cv = vic[(vic['time'] >= \"2021-01-01 00:00:00\") & (vic['time'] <= \"2021-06-30 23:30:00\")].reset_index(drop=True)\n",
    "vic_test = vic[(vic['time'] >= \"2021-07-01 00:00:00\") & (vic['time'] <= \"2021-08-11 23:30:00\")].reset_index(drop=True)\n",
    "vic.to_csv(\"../../data/vic.csv\", index= False, header=True)\n",
    "vic_train.to_csv(\"../../data/vic_train.csv\", index= False, header=True)\n",
    "vic_cv.to_csv(\"../../data/vic_cv.csv\", index= False, header=True)\n",
    "vic_test.to_csv(\"../../data/vic_test.csv\", index= False, header=True)\n",
    "\n",
    "# Tasmania\n",
    "tas_train = tas[tas['time'] <= \"2020-12-31 23:30:00\"]\n",
    "tas_cv = tas[(tas['time'] >= \"2021-01-01 00:00:00\") & (tas['time'] <= \"2021-06-30 23:30:00\")].reset_index(drop=True)\n",
    "tas_test = tas[(tas['time'] >= \"2021-07-01 00:00:00\") & (tas['time'] <= \"2021-08-11 23:30:00\")].reset_index(drop=True)\n",
    "tas.to_csv(\"../../data/tas.csv\", index= False, header=True)\n",
    "tas_train.to_csv(\"../../data/tas_train.csv\", index= False, header=True)\n",
    "tas_cv.to_csv(\"../../data/tas_cv.csv\", index= False, header=True)\n",
    "tas_test.to_csv(\"../../data/tas_test.csv\", index= False, header=True)\n",
    "\n",
    "# South Australia\n",
    "sa_train = sa[sa['time'] <= \"2020-12-31 23:30:00\"]\n",
    "sa_cv = sa[(sa['time'] >= \"2021-01-01 00:00:00\") & (sa['time'] <= \"2021-06-30 23:30:00\")].reset_index(drop=True)\n",
    "sa_test = sa[(sa['time'] >= \"2021-07-01 00:00:00\") & (sa['time'] <= \"2021-08-11 23:30:00\")].reset_index(drop=True)\n",
    "sa.to_csv(\"../../data/sa.csv\", index= False, header=True)\n",
    "sa_train.to_csv(\"../../data/sa_train.csv\", index= False, header=True)\n",
    "sa_cv.to_csv(\"../../data/sa_cv.csv\", index= False, header=True)\n",
    "sa_test.to_csv(\"../../data/sa_test.csv\", index= False, header=True)\n",
    "\n",
    "# New South Wales\n",
    "nsw_train = nsw[nsw['time'] <= \"2020-12-31 23:30:00\"]\n",
    "nsw_cv = nsw[(nsw['time'] >= \"2021-01-01 00:00:00\") & (nsw['time'] <= \"2021-06-30 23:30:00\")].reset_index(drop=True)\n",
    "nsw_test = nsw[(nsw['time'] >= \"2021-07-01 00:00:00\") & (nsw['time'] <= \"2021-08-11 23:30:00\")].reset_index(drop=True)\n",
    "nsw.to_csv(\"../../data/nsw.csv\", index= False, header=True)\n",
    "nsw_train.to_csv(\"../../data/nsw_train.csv\", index= False, header=True)\n",
    "nsw_cv.to_csv(\"../../data/nsw_cv.csv\", index= False, header=True)\n",
    "nsw_test.to_csv(\"../../data/nsw_test.csv\", index= False, header=True)"
   ]
  },
  {
   "cell_type": "code",
   "execution_count": null,
   "metadata": {},
   "outputs": [],
   "source": []
  }
 ],
 "metadata": {
  "interpreter": {
   "hash": "dca0ade3e726a953b501b15e8e990130d2b7799f14cfd9f4271676035ebe5511"
  },
  "kernelspec": {
   "display_name": "Python 3 (ipykernel)",
   "language": "python",
   "name": "python3"
  },
  "language_info": {
   "codemirror_mode": {
    "name": "ipython",
    "version": 3
   },
   "file_extension": ".py",
   "mimetype": "text/x-python",
   "name": "python",
   "nbconvert_exporter": "python",
   "pygments_lexer": "ipython3",
   "version": "3.8.11"
  }
 },
 "nbformat": 4,
 "nbformat_minor": 4
}
